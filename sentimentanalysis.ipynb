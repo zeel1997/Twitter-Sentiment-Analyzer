{
 "cells": [
  {
   "cell_type": "markdown",
   "metadata": {
    "id": "fj7nLN8VzWCz"
   },
   "source": [
    "#Importing the Libraries"
   ]
  },
  {
   "cell_type": "code",
   "execution_count": 144,
   "metadata": {
    "colab": {
     "base_uri": "https://localhost:8080/"
    },
    "executionInfo": {
     "elapsed": 8088,
     "status": "ok",
     "timestamp": 1606113279933,
     "user": {
      "displayName": "Zeel Patel",
      "photoUrl": "https://lh3.googleusercontent.com/a-/AOh14GjVP74ai2IFAo2FlfFEdINsh_mE8LXKhpaFf2sWZg=s64",
      "userId": "01375381203786767035"
     },
     "user_tz": 480
    },
    "id": "350RQmwI0vND",
    "outputId": "c0773d3a-1cbe-4d6a-bd6a-bf4370de02ab"
   },
   "outputs": [
    {
     "name": "stdout",
     "output_type": "stream",
     "text": [
      "Requirement already satisfied: keras in /usr/local/lib/python3.6/dist-packages (2.4.3)\n",
      "Requirement already satisfied: pyyaml in /usr/local/lib/python3.6/dist-packages (from keras) (3.13)\n",
      "Requirement already satisfied: numpy>=1.9.1 in /usr/local/lib/python3.6/dist-packages (from keras) (1.18.5)\n",
      "Requirement already satisfied: scipy>=0.14 in /usr/local/lib/python3.6/dist-packages (from keras) (1.4.1)\n",
      "Requirement already satisfied: h5py in /usr/local/lib/python3.6/dist-packages (from keras) (2.10.0)\n",
      "Requirement already satisfied: six in /usr/local/lib/python3.6/dist-packages (from h5py->keras) (1.15.0)\n",
      "Requirement already satisfied: pandas in /usr/local/lib/python3.6/dist-packages (1.1.4)\n",
      "Requirement already satisfied: python-dateutil>=2.7.3 in /usr/local/lib/python3.6/dist-packages (from pandas) (2.8.1)\n",
      "Requirement already satisfied: numpy>=1.15.4 in /usr/local/lib/python3.6/dist-packages (from pandas) (1.18.5)\n",
      "Requirement already satisfied: pytz>=2017.2 in /usr/local/lib/python3.6/dist-packages (from pandas) (2018.9)\n",
      "Requirement already satisfied: six>=1.5 in /usr/local/lib/python3.6/dist-packages (from python-dateutil>=2.7.3->pandas) (1.15.0)\n",
      "Requirement already satisfied: sklearn in /usr/local/lib/python3.6/dist-packages (0.0)\n",
      "Requirement already satisfied: scikit-learn in /usr/local/lib/python3.6/dist-packages (from sklearn) (0.22.2.post1)\n",
      "Requirement already satisfied: numpy>=1.11.0 in /usr/local/lib/python3.6/dist-packages (from scikit-learn->sklearn) (1.18.5)\n",
      "Requirement already satisfied: scipy>=0.17.0 in /usr/local/lib/python3.6/dist-packages (from scikit-learn->sklearn) (1.4.1)\n",
      "Requirement already satisfied: joblib>=0.11 in /usr/local/lib/python3.6/dist-packages (from scikit-learn->sklearn) (0.17.0)\n",
      "Drive already mounted at /content/drive; to attempt to forcibly remount, call drive.mount(\"/content/drive\", force_remount=True).\n"
     ]
    }
   ],
   "source": [
    "!pip install keras\n",
    "!pip install pandas\n",
    "!pip install sklearn\n",
    "from google.colab import drive\n",
    "drive.mount('/content/drive')"
   ]
  },
  {
   "cell_type": "code",
   "execution_count": 130,
   "metadata": {
    "executionInfo": {
     "elapsed": 582,
     "status": "ok",
     "timestamp": 1606104139159,
     "user": {
      "displayName": "Zeel Patel",
      "photoUrl": "https://lh3.googleusercontent.com/a-/AOh14GjVP74ai2IFAo2FlfFEdINsh_mE8LXKhpaFf2sWZg=s64",
      "userId": "01375381203786767035"
     },
     "user_tz": 480
    },
    "id": "qGmqW4GA0zAO"
   },
   "outputs": [],
   "source": [
    "import numpy as np\n",
    "import pandas as pd \n",
    "import re\n",
    "from sklearn.feature_extraction.text import CountVectorizer\n",
    "from sklearn.preprocessing import OneHotEncoder\n",
    "from keras.preprocessing.text import Tokenizer\n",
    "from keras.preprocessing.sequence import pad_sequences\n",
    "from keras.models import Sequential\n",
    "from keras.layers import Dense, Embedding, LSTM, SpatialDropout1D\n",
    "from sklearn.model_selection import train_test_split\n",
    "from keras.utils.np_utils import to_categorical\n",
    "import warnings\n",
    "warnings.filterwarnings('ignore')"
   ]
  },
  {
   "cell_type": "markdown",
   "metadata": {
    "id": "_uMkQnQlHvF4"
   },
   "source": [
    "Reading the Data"
   ]
  },
  {
   "cell_type": "code",
   "execution_count": 120,
   "metadata": {
    "executionInfo": {
     "elapsed": 613,
     "status": "ok",
     "timestamp": 1606104083259,
     "user": {
      "displayName": "Zeel Patel",
      "photoUrl": "https://lh3.googleusercontent.com/a-/AOh14GjVP74ai2IFAo2FlfFEdINsh_mE8LXKhpaFf2sWZg=s64",
      "userId": "01375381203786767035"
     },
     "user_tz": 480
    },
    "id": "mABn4WaK0-S8"
   },
   "outputs": [],
   "source": [
    "data=pd.read_csv(\"/content/drive/MyDrive/ls2/train.csv\")"
   ]
  },
  {
   "cell_type": "code",
   "execution_count": 121,
   "metadata": {
    "colab": {
     "base_uri": "https://localhost:8080/"
    },
    "executionInfo": {
     "elapsed": 365,
     "status": "ok",
     "timestamp": 1606104083858,
     "user": {
      "displayName": "Zeel Patel",
      "photoUrl": "https://lh3.googleusercontent.com/a-/AOh14GjVP74ai2IFAo2FlfFEdINsh_mE8LXKhpaFf2sWZg=s64",
      "userId": "01375381203786767035"
     },
     "user_tz": 480
    },
    "id": "ks_ldjfgLwRi",
    "outputId": "a41c30de-80be-4220-bc11-0972267e1012"
   },
   "outputs": [
    {
     "data": {
      "text/plain": [
       "(2500, 3)"
      ]
     },
     "execution_count": 121,
     "metadata": {
      "tags": []
     },
     "output_type": "execute_result"
    }
   ],
   "source": [
    "data.shape"
   ]
  },
  {
   "cell_type": "markdown",
   "metadata": {
    "id": "LqoZHHmjH2w2"
   },
   "source": [
    "Cleaning Data"
   ]
  },
  {
   "cell_type": "code",
   "execution_count": 122,
   "metadata": {
    "executionInfo": {
     "elapsed": 479,
     "status": "ok",
     "timestamp": 1606104084778,
     "user": {
      "displayName": "Zeel Patel",
      "photoUrl": "https://lh3.googleusercontent.com/a-/AOh14GjVP74ai2IFAo2FlfFEdINsh_mE8LXKhpaFf2sWZg=s64",
      "userId": "01375381203786767035"
     },
     "user_tz": 480
    },
    "id": "ZAE51hAh6KFz"
   },
   "outputs": [],
   "source": [
    "\n",
    "\n",
    "data.iloc[:,2] = data.iloc[:,2].apply(lambda x: x.lower())\n",
    "data.iloc[:,2] = data.iloc[:,2].apply((lambda x: re.sub('[^a-zA-z0-9\\s]','',x)))\n",
    "data.iloc[:,2] = data.iloc[:,2].apply((lambda x: re.sub('[([?:|[0-9]|[$-.&+#]|[!*\\(\\),]', '',x)))\n"
   ]
  },
  {
   "cell_type": "code",
   "execution_count": 123,
   "metadata": {
    "executionInfo": {
     "elapsed": 488,
     "status": "ok",
     "timestamp": 1606104085742,
     "user": {
      "displayName": "Zeel Patel",
      "photoUrl": "https://lh3.googleusercontent.com/a-/AOh14GjVP74ai2IFAo2FlfFEdINsh_mE8LXKhpaFf2sWZg=s64",
      "userId": "01375381203786767035"
     },
     "user_tz": 480
    },
    "id": "Jz1kasow74Cl"
   },
   "outputs": [],
   "source": [
    "data.head(5)\n",
    "tweets = data.loc[:,\"tweet\"]"
   ]
  },
  {
   "cell_type": "markdown",
   "metadata": {
    "id": "a2g5jkfTH9eN"
   },
   "source": [
    "Converting Text into Sequences"
   ]
  },
  {
   "cell_type": "code",
   "execution_count": 125,
   "metadata": {
    "executionInfo": {
     "elapsed": 380,
     "status": "ok",
     "timestamp": 1606104087677,
     "user": {
      "displayName": "Zeel Patel",
      "photoUrl": "https://lh3.googleusercontent.com/a-/AOh14GjVP74ai2IFAo2FlfFEdINsh_mE8LXKhpaFf2sWZg=s64",
      "userId": "01375381203786767035"
     },
     "user_tz": 480
    },
    "id": "Y1TMGV2U_uWR"
   },
   "outputs": [],
   "source": [
    "max_features = 2000\n",
    "tokenizer = Tokenizer(num_words=max_features, split=' ')\n",
    "tokenizer.fit_on_texts(tweets.values)\n",
    "X = tokenizer.texts_to_sequences(tweets.values)\n",
    "X = pad_sequences(X)"
   ]
  },
  {
   "cell_type": "code",
   "execution_count": 126,
   "metadata": {
    "executionInfo": {
     "elapsed": 730,
     "status": "ok",
     "timestamp": 1606104088973,
     "user": {
      "displayName": "Zeel Patel",
      "photoUrl": "https://lh3.googleusercontent.com/a-/AOh14GjVP74ai2IFAo2FlfFEdINsh_mE8LXKhpaFf2sWZg=s64",
      "userId": "01375381203786767035"
     },
     "user_tz": 480
    },
    "id": "VthaFIKpEvNY"
   },
   "outputs": [],
   "source": [
    "lstm_out = 196\n",
    "embed_dim = 128"
   ]
  },
  {
   "cell_type": "code",
   "execution_count": 140,
   "metadata": {
    "colab": {
     "base_uri": "https://localhost:8080/"
    },
    "executionInfo": {
     "elapsed": 713,
     "status": "ok",
     "timestamp": 1606104420021,
     "user": {
      "displayName": "Zeel Patel",
      "photoUrl": "https://lh3.googleusercontent.com/a-/AOh14GjVP74ai2IFAo2FlfFEdINsh_mE8LXKhpaFf2sWZg=s64",
      "userId": "01375381203786767035"
     },
     "user_tz": 480
    },
    "id": "QopGzDqVGboN",
    "outputId": "ddcb4a2d-32da-48ae-cf76-affe44d59d2a"
   },
   "outputs": [
    {
     "name": "stdout",
     "output_type": "stream",
     "text": [
      "Model: \"sequential_6\"\n",
      "_________________________________________________________________\n",
      "Layer (type)                 Output Shape              Param #   \n",
      "=================================================================\n",
      "embedding_6 (Embedding)      (None, 30, 128)           256000    \n",
      "_________________________________________________________________\n",
      "spatial_dropout1d_6 (Spatial (None, 30, 128)           0         \n",
      "_________________________________________________________________\n",
      "lstm_6 (LSTM)                (None, 196)               254800    \n",
      "_________________________________________________________________\n",
      "dense_6 (Dense)              (None, 2)                 394       \n",
      "=================================================================\n",
      "Total params: 511,194\n",
      "Trainable params: 511,194\n",
      "Non-trainable params: 0\n",
      "_________________________________________________________________\n",
      "None\n"
     ]
    }
   ],
   "source": [
    "model = Sequential()\n",
    "model.add(Embedding(max_features, embed_dim,input_length = X.shape[1]))\n",
    "model.add(SpatialDropout1D(0.4))\n",
    "model.add(LSTM(lstm_out, dropout=0.2, recurrent_dropout=0.2))\n",
    "model.add(Dense(2,activation='softmax'))\n",
    "model.compile(loss = 'categorical_crossentropy', optimizer='adam',metrics = ['accuracy'])\n",
    "print(model.summary())"
   ]
  },
  {
   "cell_type": "code",
   "execution_count": 141,
   "metadata": {
    "colab": {
     "base_uri": "https://localhost:8080/"
    },
    "executionInfo": {
     "elapsed": 352,
     "status": "ok",
     "timestamp": 1606104420753,
     "user": {
      "displayName": "Zeel Patel",
      "photoUrl": "https://lh3.googleusercontent.com/a-/AOh14GjVP74ai2IFAo2FlfFEdINsh_mE8LXKhpaFf2sWZg=s64",
      "userId": "01375381203786767035"
     },
     "user_tz": 480
    },
    "id": "VIVKt9c3H5jO",
    "outputId": "2b68fad8-b131-4766-b30c-6119582ecda8"
   },
   "outputs": [
    {
     "name": "stdout",
     "output_type": "stream",
     "text": [
      "(2000, 30) (2000, 2)\n",
      "(500, 30) (500, 2)\n"
     ]
    }
   ],
   "source": [
    "Y = pd.get_dummies(data.iloc[:,1])\n",
    "X_train, X_test, Y_train, Y_test = train_test_split(X,Y, test_size = 0.2, random_state = 42)\n",
    "print(X_train.shape,Y_train.shape)\n",
    "print(X_test.shape,Y_test.shape)"
   ]
  },
  {
   "cell_type": "markdown",
   "metadata": {
    "id": "9bP_gwHMIHZy"
   },
   "source": [
    "Training Model"
   ]
  },
  {
   "cell_type": "code",
   "execution_count": 142,
   "metadata": {
    "colab": {
     "base_uri": "https://localhost:8080/"
    },
    "executionInfo": {
     "elapsed": 940069,
     "status": "ok",
     "timestamp": 1606105361273,
     "user": {
      "displayName": "Zeel Patel",
      "photoUrl": "https://lh3.googleusercontent.com/a-/AOh14GjVP74ai2IFAo2FlfFEdINsh_mE8LXKhpaFf2sWZg=s64",
      "userId": "01375381203786767035"
     },
     "user_tz": 480
    },
    "id": "pWui1EDGIRTt",
    "outputId": "2197c781-b78e-45f2-95f6-4edd50f10853"
   },
   "outputs": [
    {
     "name": "stdout",
     "output_type": "stream",
     "text": [
      "Epoch 1/50\n",
      "125/125 [==============================] - 18s 148ms/step - loss: 0.2691 - accuracy: 0.9325 - val_loss: 0.2299 - val_accuracy: 0.9300\n",
      "Epoch 2/50\n",
      "125/125 [==============================] - 24s 193ms/step - loss: 0.1816 - accuracy: 0.9390 - val_loss: 0.1791 - val_accuracy: 0.9340\n",
      "Epoch 3/50\n",
      "125/125 [==============================] - 18s 145ms/step - loss: 0.0982 - accuracy: 0.9635 - val_loss: 0.1776 - val_accuracy: 0.9380\n",
      "Epoch 4/50\n",
      "125/125 [==============================] - 18s 145ms/step - loss: 0.0643 - accuracy: 0.9755 - val_loss: 0.1886 - val_accuracy: 0.9380\n",
      "Epoch 5/50\n",
      "125/125 [==============================] - 18s 146ms/step - loss: 0.0420 - accuracy: 0.9870 - val_loss: 0.2412 - val_accuracy: 0.9400\n",
      "Epoch 6/50\n",
      "125/125 [==============================] - 18s 146ms/step - loss: 0.0279 - accuracy: 0.9925 - val_loss: 0.2694 - val_accuracy: 0.9320\n",
      "Epoch 7/50\n",
      "125/125 [==============================] - 18s 145ms/step - loss: 0.0152 - accuracy: 0.9950 - val_loss: 0.3230 - val_accuracy: 0.9320\n",
      "Epoch 8/50\n",
      "125/125 [==============================] - 18s 146ms/step - loss: 0.0129 - accuracy: 0.9960 - val_loss: 0.3468 - val_accuracy: 0.9340\n",
      "Epoch 9/50\n",
      "125/125 [==============================] - 18s 146ms/step - loss: 0.0098 - accuracy: 0.9975 - val_loss: 0.5106 - val_accuracy: 0.9120\n",
      "Epoch 10/50\n",
      "125/125 [==============================] - 18s 146ms/step - loss: 0.0147 - accuracy: 0.9975 - val_loss: 0.4089 - val_accuracy: 0.9320\n",
      "Epoch 11/50\n",
      "125/125 [==============================] - 18s 146ms/step - loss: 0.0036 - accuracy: 0.9990 - val_loss: 0.4435 - val_accuracy: 0.9220\n",
      "Epoch 12/50\n",
      "125/125 [==============================] - 18s 148ms/step - loss: 0.0042 - accuracy: 0.9990 - val_loss: 0.4339 - val_accuracy: 0.9300\n",
      "Epoch 13/50\n",
      "125/125 [==============================] - 19s 148ms/step - loss: 0.0017 - accuracy: 1.0000 - val_loss: 0.5066 - val_accuracy: 0.9280\n",
      "Epoch 14/50\n",
      "125/125 [==============================] - 18s 148ms/step - loss: 5.7908e-04 - accuracy: 1.0000 - val_loss: 0.5263 - val_accuracy: 0.9260\n",
      "Epoch 15/50\n",
      "125/125 [==============================] - 18s 147ms/step - loss: 4.4126e-04 - accuracy: 1.0000 - val_loss: 0.5544 - val_accuracy: 0.9260\n",
      "Epoch 16/50\n",
      "125/125 [==============================] - 18s 148ms/step - loss: 0.0057 - accuracy: 0.9985 - val_loss: 0.4555 - val_accuracy: 0.9280\n",
      "Epoch 17/50\n",
      "125/125 [==============================] - 18s 148ms/step - loss: 0.0022 - accuracy: 0.9995 - val_loss: 0.4639 - val_accuracy: 0.9320\n",
      "Epoch 18/50\n",
      "125/125 [==============================] - 19s 148ms/step - loss: 0.0028 - accuracy: 0.9995 - val_loss: 0.4399 - val_accuracy: 0.9320\n",
      "Epoch 19/50\n",
      "125/125 [==============================] - 19s 149ms/step - loss: 0.0010 - accuracy: 1.0000 - val_loss: 0.4829 - val_accuracy: 0.9300\n",
      "Epoch 20/50\n",
      "125/125 [==============================] - 18s 147ms/step - loss: 3.0229e-04 - accuracy: 1.0000 - val_loss: 0.5099 - val_accuracy: 0.9300\n",
      "Epoch 21/50\n",
      "125/125 [==============================] - 19s 148ms/step - loss: 0.0019 - accuracy: 0.9990 - val_loss: 0.5291 - val_accuracy: 0.9300\n",
      "Epoch 22/50\n",
      "125/125 [==============================] - 18s 148ms/step - loss: 3.0380e-04 - accuracy: 1.0000 - val_loss: 0.5773 - val_accuracy: 0.9300\n",
      "Epoch 23/50\n",
      "125/125 [==============================] - 18s 148ms/step - loss: 1.6800e-04 - accuracy: 1.0000 - val_loss: 0.5966 - val_accuracy: 0.9260\n",
      "Epoch 24/50\n",
      "125/125 [==============================] - 18s 147ms/step - loss: 2.4138e-04 - accuracy: 1.0000 - val_loss: 0.6066 - val_accuracy: 0.9240\n",
      "Epoch 25/50\n",
      "125/125 [==============================] - 18s 147ms/step - loss: 9.8003e-05 - accuracy: 1.0000 - val_loss: 0.6351 - val_accuracy: 0.9240\n",
      "Epoch 26/50\n",
      "125/125 [==============================] - 18s 147ms/step - loss: 9.5231e-05 - accuracy: 1.0000 - val_loss: 0.6534 - val_accuracy: 0.9240\n",
      "Epoch 27/50\n",
      "125/125 [==============================] - 18s 146ms/step - loss: 7.2274e-05 - accuracy: 1.0000 - val_loss: 0.6627 - val_accuracy: 0.9240\n",
      "Epoch 28/50\n",
      "125/125 [==============================] - 18s 147ms/step - loss: 5.3974e-05 - accuracy: 1.0000 - val_loss: 0.6677 - val_accuracy: 0.9280\n",
      "Epoch 29/50\n",
      "125/125 [==============================] - 18s 147ms/step - loss: 8.6825e-05 - accuracy: 1.0000 - val_loss: 0.7148 - val_accuracy: 0.9240\n",
      "Epoch 30/50\n",
      "125/125 [==============================] - 18s 146ms/step - loss: 4.0338e-05 - accuracy: 1.0000 - val_loss: 0.7237 - val_accuracy: 0.9260\n",
      "Epoch 31/50\n",
      "125/125 [==============================] - 18s 146ms/step - loss: 5.8219e-05 - accuracy: 1.0000 - val_loss: 0.7495 - val_accuracy: 0.9220\n",
      "Epoch 32/50\n",
      "125/125 [==============================] - 18s 145ms/step - loss: 0.0043 - accuracy: 0.9990 - val_loss: 0.5450 - val_accuracy: 0.9260\n",
      "Epoch 33/50\n",
      "125/125 [==============================] - 18s 146ms/step - loss: 4.7489e-04 - accuracy: 1.0000 - val_loss: 0.5906 - val_accuracy: 0.9320\n",
      "Epoch 34/50\n",
      "125/125 [==============================] - 19s 148ms/step - loss: 0.0107 - accuracy: 0.9970 - val_loss: 0.4663 - val_accuracy: 0.9320\n",
      "Epoch 35/50\n",
      "125/125 [==============================] - 25s 197ms/step - loss: 0.0257 - accuracy: 0.9950 - val_loss: 0.3367 - val_accuracy: 0.9320\n",
      "Epoch 36/50\n",
      "125/125 [==============================] - 18s 148ms/step - loss: 0.0017 - accuracy: 1.0000 - val_loss: 0.4290 - val_accuracy: 0.9280\n",
      "Epoch 37/50\n",
      "125/125 [==============================] - 18s 147ms/step - loss: 5.2958e-04 - accuracy: 1.0000 - val_loss: 0.4423 - val_accuracy: 0.9280\n",
      "Epoch 38/50\n",
      "125/125 [==============================] - 18s 147ms/step - loss: 3.7695e-04 - accuracy: 1.0000 - val_loss: 0.4647 - val_accuracy: 0.9280\n",
      "Epoch 39/50\n",
      "125/125 [==============================] - 18s 147ms/step - loss: 1.8648e-04 - accuracy: 1.0000 - val_loss: 0.4842 - val_accuracy: 0.9280\n",
      "Epoch 40/50\n",
      "125/125 [==============================] - 18s 148ms/step - loss: 1.4481e-04 - accuracy: 1.0000 - val_loss: 0.5036 - val_accuracy: 0.9300\n",
      "Epoch 41/50\n",
      "125/125 [==============================] - 19s 149ms/step - loss: 4.4762e-04 - accuracy: 1.0000 - val_loss: 0.4996 - val_accuracy: 0.9300\n",
      "Epoch 42/50\n",
      "125/125 [==============================] - 18s 147ms/step - loss: 1.2831e-04 - accuracy: 1.0000 - val_loss: 0.5043 - val_accuracy: 0.9340\n",
      "Epoch 43/50\n",
      "125/125 [==============================] - 18s 146ms/step - loss: 8.0335e-05 - accuracy: 1.0000 - val_loss: 0.5209 - val_accuracy: 0.9320\n",
      "Epoch 44/50\n",
      "125/125 [==============================] - 18s 147ms/step - loss: 9.5945e-05 - accuracy: 1.0000 - val_loss: 0.5400 - val_accuracy: 0.9320\n",
      "Epoch 45/50\n",
      "125/125 [==============================] - 18s 147ms/step - loss: 7.7741e-05 - accuracy: 1.0000 - val_loss: 0.5486 - val_accuracy: 0.9320\n",
      "Epoch 46/50\n",
      "125/125 [==============================] - 18s 146ms/step - loss: 6.4841e-05 - accuracy: 1.0000 - val_loss: 0.5501 - val_accuracy: 0.9360\n",
      "Epoch 47/50\n",
      "125/125 [==============================] - 18s 146ms/step - loss: 4.8466e-05 - accuracy: 1.0000 - val_loss: 0.5676 - val_accuracy: 0.9340\n",
      "Epoch 48/50\n",
      "125/125 [==============================] - 18s 147ms/step - loss: 3.8783e-05 - accuracy: 1.0000 - val_loss: 0.5875 - val_accuracy: 0.9340\n",
      "Epoch 49/50\n",
      "125/125 [==============================] - 18s 148ms/step - loss: 3.4414e-05 - accuracy: 1.0000 - val_loss: 0.5956 - val_accuracy: 0.9340\n",
      "Epoch 50/50\n",
      "125/125 [==============================] - 18s 147ms/step - loss: 2.3517e-05 - accuracy: 1.0000 - val_loss: 0.6130 - val_accuracy: 0.9300\n"
     ]
    },
    {
     "data": {
      "text/plain": [
       "<tensorflow.python.keras.callbacks.History at 0x7fa585a0c780>"
      ]
     },
     "execution_count": 142,
     "metadata": {
      "tags": []
     },
     "output_type": "execute_result"
    }
   ],
   "source": [
    "\n",
    "batch_size = 16\n",
    "model.fit(X_train, Y_train, epochs = 50, batch_size=batch_size,validation_data=(X_test,Y_test))"
   ]
  },
  {
   "cell_type": "markdown",
   "metadata": {
    "id": "Prf8e5iH41wF"
   },
   "source": [
    "Importing the Test Data"
   ]
  },
  {
   "cell_type": "code",
   "execution_count": 147,
   "metadata": {
    "executionInfo": {
     "elapsed": 1208,
     "status": "ok",
     "timestamp": 1606113642645,
     "user": {
      "displayName": "Zeel Patel",
      "photoUrl": "https://lh3.googleusercontent.com/a-/AOh14GjVP74ai2IFAo2FlfFEdINsh_mE8LXKhpaFf2sWZg=s64",
      "userId": "01375381203786767035"
     },
     "user_tz": 480
    },
    "id": "r5iHknxdNxoD"
   },
   "outputs": [],
   "source": [
    "data1 = pd.read_csv(\"/content/drive/MyDrive/wana-interview-test-master/wana-interview-test-master/datascience/sentiment_posts.csv\")\n"
   ]
  },
  {
   "cell_type": "code",
   "execution_count": 148,
   "metadata": {
    "executionInfo": {
     "elapsed": 603,
     "status": "ok",
     "timestamp": 1606113880636,
     "user": {
      "displayName": "Zeel Patel",
      "photoUrl": "https://lh3.googleusercontent.com/a-/AOh14GjVP74ai2IFAo2FlfFEdINsh_mE8LXKhpaFf2sWZg=s64",
      "userId": "01375381203786767035"
     },
     "user_tz": 480
    },
    "id": "CYwZA9Ir2Exv"
   },
   "outputs": [],
   "source": [
    "data1.iloc[:,1] = data1.iloc[:,1].apply(lambda x: x.lower())\n",
    "data1.iloc[:,1] = data1.iloc[:,1].apply((lambda x: re.sub('[^a-zA-z0-9\\s]','',x)))\n",
    "data1.iloc[:,1] = data1.iloc[:,1].apply((lambda x: re.sub('[([?:|[0-9]|[$-.&+#]|[!*\\(\\),]', '',x)))"
   ]
  },
  {
   "cell_type": "code",
   "execution_count": 149,
   "metadata": {
    "executionInfo": {
     "elapsed": 702,
     "status": "ok",
     "timestamp": 1606113937972,
     "user": {
      "displayName": "Zeel Patel",
      "photoUrl": "https://lh3.googleusercontent.com/a-/AOh14GjVP74ai2IFAo2FlfFEdINsh_mE8LXKhpaFf2sWZg=s64",
      "userId": "01375381203786767035"
     },
     "user_tz": 480
    },
    "id": "06aYqSSl2UtV"
   },
   "outputs": [],
   "source": [
    "text_original = data1.loc[:,\"text_original\"]"
   ]
  },
  {
   "cell_type": "code",
   "execution_count": 151,
   "metadata": {
    "executionInfo": {
     "elapsed": 1173,
     "status": "ok",
     "timestamp": 1606114072007,
     "user": {
      "displayName": "Zeel Patel",
      "photoUrl": "https://lh3.googleusercontent.com/a-/AOh14GjVP74ai2IFAo2FlfFEdINsh_mE8LXKhpaFf2sWZg=s64",
      "userId": "01375381203786767035"
     },
     "user_tz": 480
    },
    "id": "mIfWbNBP0ks0"
   },
   "outputs": [],
   "source": [
    "max_features = 2000\n",
    "tokenizer = Tokenizer(num_words=max_features, split=' ')\n",
    "tokenizer.fit_on_texts(text_original.values)\n",
    "X = tokenizer.texts_to_sequences(text_original.values)\n",
    "X = pad_sequences(X)\n",
    "result = model.predict(X)"
   ]
  },
  {
   "cell_type": "code",
   "execution_count": 173,
   "metadata": {
    "colab": {
     "base_uri": "https://localhost:8080/"
    },
    "executionInfo": {
     "elapsed": 1108,
     "status": "ok",
     "timestamp": 1606116656099,
     "user": {
      "displayName": "Zeel Patel",
      "photoUrl": "https://lh3.googleusercontent.com/a-/AOh14GjVP74ai2IFAo2FlfFEdINsh_mE8LXKhpaFf2sWZg=s64",
      "userId": "01375381203786767035"
     },
     "user_tz": 480
    },
    "id": "6KkIJZ4RAw_o",
    "outputId": "945f3aad-f324-4274-9fca-7c3fe066e2c1"
   },
   "outputs": [
    {
     "name": "stdout",
     "output_type": "stream",
     "text": [
      "[0 0 0 0 0 0 0 0 0 0 0 0 0 0 0 0 0 0 0 0 0 0 0 0 0 0 0 0 0 0 0 0 0 0 0 0 0\n",
      " 0 0 0 0 0 0 0 0 0 0 0 0 0 0 0 0 0 0 0 0 0 0 0 0 0 0 0 0 0 0 0 0 0 0 0 0 0\n",
      " 0 0 0 0 0 0 0 0 0 0 0 0 0 0 0 0 0 0 0 0 0 0 0 0 0 0 0 0 0 0 0 0 0 0 0 0 0\n",
      " 0 0 0 0 0 0 0 0 0 0 0 0 0 0 0 0 0 0 0 0 0 0 0 0 0 0 0 0 0 0 0 0 0 0 0 0 0\n",
      " 0 0 0 0 0 0 0 0 0 0 0 0 0 1 0 0 0 0 0 0 0 0 0 0 0 0 0 0 0 0 0 0 0 0 0 0 0\n",
      " 0 0 0 0 0 0 0 0 0 0 0 0 0 0 0 0 0 0 0 0 0 0 0 0 0 0 0 0 0 0 0 0 0 0 0 0 0\n",
      " 0 0 0 0 0 0 0 0 0 0 1 0 0 0 0 0 0 0 0 0 0 0 0 0 0 0 0 0]\n"
     ]
    }
   ],
   "source": [
    "res = np.argmax(result, axis = 1)\n",
    "print(res)"
   ]
  },
  {
   "cell_type": "code",
   "execution_count": 172,
   "metadata": {
    "colab": {
     "base_uri": "https://localhost:8080/"
    },
    "executionInfo": {
     "elapsed": 889,
     "status": "ok",
     "timestamp": 1606116167742,
     "user": {
      "displayName": "Zeel Patel",
      "photoUrl": "https://lh3.googleusercontent.com/a-/AOh14GjVP74ai2IFAo2FlfFEdINsh_mE8LXKhpaFf2sWZg=s64",
      "userId": "01375381203786767035"
     },
     "user_tz": 480
    },
    "id": "kCagGwjT2qb0",
    "outputId": "bf8c773b-1855-46b3-fe56-c682b094e34f"
   },
   "outputs": [
    {
     "name": "stdout",
     "output_type": "stream",
     "text": [
      "it’s a question that’s plagued me for a long time (see my previous post). these people get into the best schools, have a lot of popularity/fame, high status/prestigious. does that bother you and how do you deal with it? it’s so hard for me to accept at times, leaving me a bit bitter about it. Positive Statement \n",
      "\n",
      "How is everyone REALLY doing today, mentally? ❤️Fabulous  🧡 Mostly Ok 💛 indifferent 💚 Mostly Not Ok 💙 Severly Upset  Positive Statement \n",
      "\n",
      "what scares you the most? Positive Statement \n",
      "\n",
      "what  that one thing that puts  a smile o your face  Positive Statement \n",
      "\n",
      "I'm tired I've turned into a totally different person and I'm emotionally not there for my family and friends and self anymore I want to love but every time I get close I go right back to being an empty void Positive Statement \n",
      "\n",
      "Sometimes, when a doctor comes in to the room, I can almost tell they've taken a quick look at my extensive medical chart and have already made their mind up that they can’t help me, before they’ve even met me. I had been in a lot I went to physical therapy and tried exercise at home. But yet I am pain. I got diagnosed with psoriasis arthritis. I also walk with a cane from losing my balance and falling.   I am constantly dragging my leg forcing myself to walk.  Positive Statement \n",
      "\n",
      "need advice! got a 20 year old son living at home with us - working from home full time - he’s an un-medicated bipolar. we are all wfh. I think it’s time for him to move out - his mother doesn’t think so. our son only comes out of his room at night, goes out late, is not tidying up after himself. he does pay us $200 a month and he does pay his own bills. however it’s like having a really ticked off loud obnoxious roommate. I want him out but maybe he’s too young? thoughts? Positive Statement \n",
      "\n",
      "If any of you is going through a tough time and don't know who to talk to, I'm here. We all have problems I know, and it sometimes feels hard to go to someone.. I feel that sometimes.. But I know I have other people in the world who feel what I feel, so I go to these apps for support sometimes. You people also came here for that. I may not be the best person to talk to, but I can help out some way 😊 Positive Statement \n",
      "\n",
      "I'm pansexual, and I don't know how to tell my mom. I don't want her to get mad, but I want to tell her. Any ideas? Positive Statement \n",
      "\n",
      "HI EVERYONNNE. I've missed talking to my wanafam so so so so much. I had a mental breakdown awhile ago and for my best interest I had to get rid of all social media contact for a little bit to get my head straight. I'm happy to say I'm doing alot better now. I've recently been put on new antidepressants which seem to be helping alot. I also got a job for the first time in forever. it's been a really good experience so far. I hope things are going good for everyone else as well ❤ Positive Statement \n",
      "\n",
      "With the current political situation going on I feel that I should say right now that I do not side with either Republicans or Democrats. While I do have liberal views I feel that conservatives also have good points to make on certain issues. The keyword here being certain. I just feel like both parties have good points to make and that instead of hating on others with different political views, We should take the time to try and understand each other instead. Am I stupid for thinking that? Positive Statement \n",
      "\n",
      "StrateHow do you conquer panic attacks? What do you do during a panic attack? PLEASE HELP!! Positive Statement \n",
      "\n",
      "this was MONTHS ago and they weren’t my friends but there was an issue over study group where the other 2 couldn’t commit and said I could partner with someone else. So another girl contacted me to join her. I tried it out and made up my mind to join her. the other girls found out about it before I had the chance to tell them. they attacked my character, called my selfish, questioned my integrity. I was so upset. I vented about it on a blog that I used to document my studies. didn’t name them. Positive Statement \n",
      "\n",
      "how are your symptoms today? (on a scale of the smilies) 😰 - full flare in excruciating pain  😢 - flare but trying to manage 😕 - okay, not great... need support  ☺️ - feeling good, managing symptoms  😄 - walking on sunshine Positive Statement \n",
      "\n",
      "Favorite music/ artist/ song to put you in a good mood! go  Positive Statement \n",
      "\n",
      "I often feel depressed. Liike have panic attacks and anxiety attacks. I have such awful anxiety. its getting to the point where it affects everything in my daily life. I cut. I want to stop but at the same time I really dont. It just seems to help me... what do I do. Positive Statement \n",
      "\n",
      "how do you remind yourself you need to drink water?? I'm not good at it unless I know I have blood work or something coming up  Positive Statement \n",
      "\n",
      "so I contacted my bfs aunt who he’s living with. I sent her a text to see if I could spend time with him later today but I only sent 1 text  what do I do? she always leaves me on read. should I have not sent the 1 text? or should I send 1 more text in the after noon? Positive Statement \n",
      "\n",
      "I have self diagnosed anxiety and depression and I stuggle with panic attacks and all kinds of garbage but I have 0 access to therapy of any kind. Any recommendations to help deal with my stuff/vent? Positive Statement \n",
      "\n",
      "I've noticed that nearly every time I take a shower (especially longer ones) I get a super bad headache, feel like I can't breathe, and my heartrate shoots up. Has anyone else experienced this and does anyone have any reasons as to why it happens or recommendations on how to handle this? Positive Statement \n",
      "\n",
      "What keeps you up at night?  Positive Statement \n",
      "\n",
      "We’re excited to share that we have partnered with fellow #spoonie @Rana2.0 to create exclusive “Wana: We Are Not Alone” sweatshirts, because we could all use the reminder 💙  Here’s how to enter: 1. Share what Wana means to you by commenting on this post 2. Tag 3 friends who have helped you through your healing journey on our @joinwana IG giveaway post 3. Follow @joinwana + @rana2.0 on IG  Giveaway* ends on 9/23 at 11:59 PM (EDT) and the winner will be announced on 9/24. *no purchase necessary Positive Statement \n",
      "\n",
      "so I made a post on here asking for advice and get bullied. first post on here. please tell me if this happens often because if so I will let myself out. Positive Statement \n",
      "\n",
      "I've been battling depression for years now and I found out I have anemia, I'm areally picky eater and I have felt like if I eat I'm gonna feel sicker. I need help, what is a good way to move past this? Positive Statement \n",
      "\n",
      "Who's art of the lgbtq+ community?? I need more of you as friends Positive Statement \n",
      "\n",
      "I am aware everybody cries sometimes, and if you don't you should. Crying is a natural way of letting go of pent up emotions. It is sad fact that many adults are shamed for crying. I. cried in my inside and hide it away my surrounding The darkness surrounds me. It's getting so cold. I'm all alone. No one to hold. My world is so empty. All that's left is pain. No sunshine to light my way. Just never ending rain. I drown in tears. My heart is crying. No one seems to notice.   Bella 🦋  Positive Statement \n",
      "\n",
      "Does anyone here believe in past lives, spirit spouses, and high level spiritual awareness? Positive Statement \n",
      "\n",
      "My depression throws out every medication they give me after a while. just stops being effective. My psych is getting me on name brand Cymbalta instead of generic, but I don’t think it’ll help.  she’s talked about trying to get the ketamine nasal spray into clinics up here, but the closest is hours away so far.   I’m so tired of the up and down.  Feels like it’ll be this way forever.   Positive Statement \n",
      "\n",
      "who has a remedy for anxiety please?😔 Positive Statement \n",
      "\n",
      "does anybody know what it means if you get bloated after eating just about anything. no matter if it’s small meals or big meals. I’ve been vegan for about a year now and I notice whenever I eat legumes, mushrooms, garlic, onions, potatoes and certain fruits I get bloated after and I hate it. it’s frustrating cause I feel like the antibiotics I’ve took a year ago messed up my digestive tract or something cause I never had this problem before it idk, any advice what i should do?  Positive Statement \n",
      "\n",
      "Where is your favorite place that helps you heal? Mine is the beach at sunset 🌊 🌅  Positive Statement \n",
      "\n",
      "My friends think I am crazy but I love talking about astrology, moon cycle stuff etc... Is anyone else interested in this kinda woo woo stuff? It always makes me feel better Positive Statement \n",
      "\n",
      "Made this post for everyone to spam with any good news or positive thought, message or insight. My positive is this site suprisingly connecting me to some truly quality humans. What are yours? Nothing is to big or small to share. Positive Statement \n",
      "\n",
      "I don't know what to do. I'm really unhappy and I don't know how to bring it up. Everytime I do he throws a big fit and last time he broke my phone. I'm really unhappy and I don't know what to do. He has no where to go, he has no job, no car, he has nothing but what's here. I don't want to be with him anymore and I don't know what to do. everyone tells me to just kick him out but I can't do that.  Positive Statement \n",
      "\n",
      "My Heart Rate Is Always High I Get Terrible Palpitations When l Stand Up l Get Super Dizzy And My Heart Rate Spikes l Sometimes Feel Like I’m Gonna Passout I Feel Off Balance I Get Chest Pains Shortness Of Breath My Blood Pressure Spikes I Get So Weak That l Could Barely Stand l Have PVCS A Heart Murmur   Arrthythmias  And Mitral Valve Regurgitation. Positive Statement \n",
      "\n",
      "I can't take much more of my life being like this I'm doing my job right as being a parent but I still get yelled at abused by my so caked fiancée and son why am I hated so much why can't ppl love me for me Positive Statement \n",
      "\n",
      "should I be over a death that happened over six years ago? Positive Statement \n",
      "\n",
      "helo, I wanna knw if having shaky hands really is something to be worried about. sometimes I find hands shaking while holding an object.  Positive Statement \n",
      "\n",
      "I wake up every day wishing I wasn't here like no one cares so why bother with life anymore Positive Statement \n",
      "\n",
      "The last year and a half has been hard. I finished graduate school June 2019. To get a job, I have to study for board exams. I’ve had so much trouble. I felt lost. tried a 7 month course, didn’t work (and had drama with my study group), then tried studying on my own and still didn’t know what I was doing. then COVID happened and couldn’t set a date for my exam to work towards. I stopped study for 8 weeks because I was burnt out. got back into it again and failed a practice test late August.  Positive Statement \n",
      "\n",
      "I feel extremely bad for getting upset with the bf who hung up on me yesterday and I shouldn’t have he’s got a terminal illness and I feel bad I lost my sh%! and said “why’d you hang up on me? fine then I’m done take care bye.” haven’t heard from him maybe he doesn’t know how to operate the phone, I hope he didn’t pass and I got mad at him. I’m extremely upset with myself. I need help please!!  I wish I had friends too I don’t feel like I have anyone anymore!!!! Positive Statement \n",
      "\n",
      "Hey! I am new here. I have been battling with depression for the last couple of years. I got my emotions down, but the only symptom that I am dealing with right now is the brain fog. I try asking peers and they don't understand what I am talking about. I was hoping that somebody here will help me understand on how to deal with it. I get overwhelmed with the simplest task, and just feel stuck, and I am trying to move forward but I dont know how too... Can someone please help? Positive Statement \n",
      "\n",
      "morning wana fam 👋 really needing some positive energy to start the week. what is everyone thankful for?   I’m thankful for my mom and girlfriend for helping with my anxiety recently 💙 Positive Statement \n",
      "\n",
      "I just moved away from my best friend and can't help her the way I could before im scared and I cant tell her family bc their the reason why she needs helps she's given up but i just can't lose my best friend i know you can't help someone who doesn't want it but i know there has to be something out there that can help she really needs help and fast i wanna get her out i just dont know what to do Positive Statement \n",
      "\n",
      "just had an account named Juliana follow and message me. the profile said it was actually a male and 48 years old. blocked them immediately.   have you ever had to block anyone here? Positive Statement \n",
      "\n",
      "Tell me some good things that happened this week! Positive Statement \n",
      "\n",
      "lately I’ve been having these random spells of depression. all of these fears keep plaguing me at random times and I don’t know how to handle it. everyday I live with the same fears: will I loose my job? will broadway disappear forever? will I ever get to live my dreams? will these uncertain times ever end? I don’t know how to get rid of these fears I wish that for once I could live without any fear. But I don’t know if I ever well. How can I overcome this? Any bit of advice will do Positive Statement \n",
      "\n",
      "I can't do this anymore, I'm so overwhelmed and I know it may seem silly but I just can't keep doing this anymore I gave myself 2 weeks... I'm just not strong enough Positive Statement \n",
      "\n",
      "man this is app reaches to the stars and back! I knew I wasn't alone but I never found my people to discuss some serious issues with. I love myself i hate myself and I'm done being so alone about it all. I finally reached out so yall reach out to me.💚💜🖤 Positive Statement \n",
      "\n",
      "So I’ve recently started Babysitting and autistic nonverbal child who is five years old she gets very frustrated when I can’t understand her because she can’t use words and she won’t use her communication cards and every time she gets frustrated she hits and kicks and I really don’t know what to do anybody have any advice? Positive Statement \n",
      "\n",
      "i thought sleep was supposed to heal us and yet its nightmare after nightmare, just negative themed dreams to the point I feel PAIN in my dreams, always waking up throughout the night bc of some bs dream! does anyone else feel pain during your dreams? this has been going on since I was 8 with sleep paralysis, vivid dark dreams, I'm so defeated Positive Statement \n",
      "\n",
      "during very high stress times i get so sick to my stomach to the point that it's ruined my eating schedule for a few months and i've been getting so nauseous that sometimes i stumble and need to hold onto something. been so sick w this for long enough that the fear of throwing up is also huge and feeds into more anxiety.   who has tips for managing this? i have a little bit of nausea rx's right now but need help w other coping methods until i get back into therapy because it's almost constant 😭😔 Positive Statement \n",
      "\n",
      "I want to watch something on netflix and get out of bad thoughts. You can share with me your favorite shows! It can be something inspirational, lgbt friendly and mysterious. Animations are also ok! Thank you! Positive Statement \n",
      "\n",
      "This is my first day in a month or so where I just can’t get out of bed. I can walk to the bathroom (it’s right outside my room thank goodness) I am just so fatigued today. I am in a lot of pain but I am not sure what is flaring. Lol.  I have Ehlers Danlos Syndrome, Finromyalgia, POTS... I feel really alone because as supportive as my friends are, they don’t have any of these. (with the exception of one friend who has lyme and fibro). Does anyone else have days like these?  Positive Statement \n",
      "\n",
      "how can someone understand their body’s limits with dairy? sometimes ice cream can make me feel bloated, but most of the time it’s okay. today i had banana pudding, though, and my stomach did not agree with it 🙃. i don’t think i’m lactose intolerant but sometimes my body is randomly sensitive to dairy. any advice or experience with this?  Positive Statement \n",
      "\n",
      "1. My Eyes 2. My Heart 3. Able Try Help Others 4. A Good Listener 5. My Honesty Positive Statement \n",
      "\n",
      "current back pain is extremely immeasurable, currently incapacitated in bed. back pain causing stomach pain in turn causing extreme nausea and fatigue. I have no medicinal marijuana left, and I don't get paid for another week Positive Statement \n",
      "\n",
      "I have many health issues, but I wanted to share that recently a friend bought me a weighted blanket. I completely recommend it. it helps with my fibromyalgia, anxiety, and more. and normally I don't like anything touching me when I'm sleeping. Positive Statement \n",
      "\n",
      "Although I’m thankful to have mine, they really give me a hard time. Every month I have to deal with severe anxiety and overwhelming fatigue (10 days before and the first 4 days). The tiredness is unbearable at times and I’m not able to focus on tasks. I’m wondering if anyone else has the same experience?  Positive Statement \n",
      "\n",
      "There is nothing better when a person is having a bad day than to laugh and smile. Anyone who knows me well knows how much I love to make people laugh and smile. It makes me feel a little better. I feel that is one of my biggest blessings in life make someone laugh. Here is a silly joke to make you laugh. Hope it works. What would you call someone with just a nose and no body? Nobody knows!! Kidding what you makes you laugh? Positive Statement \n",
      "\n",
      "This app makes me feel comfortable, one of the things I now look forward to. So text me at anytime, I’m willing to help or be a listener. Also wanted you to know if you are reading this, you are loved. Beautiful & special in your own way, so take as much time as you need to learn what makes you happy. And the most comforting ways of learning how to express your thoughts, opinions, & emotions. Thank you! Have an amazing day! Also enjoy conversations about psychology, so please if your interested. Positive Statement \n",
      "\n",
      "Just wondering who my fellow insomniacs are. 😊😊 Positive Statement \n",
      "\n",
      "How To Handle A Long RelationShip Break Up 😥😖😢😭? Positive Statement \n",
      "\n",
      "What can i feel like im losing myseld again i literally just wakeup to have no motivation to do anything and just feel like sleeping and if I do get up I just waste my time.... Positive Statement \n",
      "\n",
      "I’m just tired of having no friends I’m married 2 kids but I’m just so sad and lonely and tired of being depressed and I feel so worthless  Positive Statement \n",
      "\n",
      "I want to start a thread so people and chat with others when they see that someone enjoys the same things they like to do. I hope this works out and you find a new friend!  Positive Statement \n",
      "\n",
      "hi my name is liz I am photographer  and I have depression  and anxiety  and I have hard time making friends I have been screwed over many times by friends or just friends saying  were friends and never tak to me help. Positive Statement \n",
      "\n",
      "favorite Disney songs to power through the day? #letitgo Positive Statement \n",
      "\n",
      "is there a tv show or movie you like that helps you relax when you're having severe anxiety? my go to show is Golden Girls ☺ Positive Statement \n",
      "\n",
      "song? band? artist? genre? Positive Statement \n",
      "\n",
      "I’m 30 years old today :)  Positive Statement \n",
      "\n",
      "Hello I am Bella new on this group. I have suffered from depression since I was little, now that I am an adult I face a lot of anxiety and am always thinking of the dark side. I can be with people and I still feel like I am alone. Worst of all because at the place I am in my life, no matter what I have been through in the past, or what my depression tries to make me believe I feel, I am fighting it.  Some think I am crazy or I am  illuminating. Did you ever felt this way? What helped you? Thanks Positive Statement \n",
      "\n",
      "hey fam. I got some difficult news this week😞. Turns out I have EDS, Mast Cell Activation Syndrome, Fibromyalgia and now I am seeing another Dr about possibly POTS and Small Fiber Neuropathy. I already knew about the fibro and painful joints but these new diagnostic realities have me a bit shaken. I could really use some love and assurance from you guys! Tips and treatment suggestions welcomed 🥰  Positive Statement \n",
      "\n",
      "Hey wana fam. I’m feeling pretty discouraged about my health. I’ve been seeing all different kinds of doctors and specialists to find out why I am in so much pain and so sick all of the time, but test after test comes back normal and my doctors don’t know what is going on. My last appointment was with my rheumatologist who shrugged and said, “I don’t know. maybe it’s fibromyalgia?” like I had the answer or something. I don’t know what else to try. I’m tired. so tired.  Positive Statement \n",
      "\n",
      "can anyone help me. I'm always feeling down and never feel happy. do you have anything that could maybe help be become better?! I cry myself to sleep 2-3 times a week! I just need help. havent told my parent yet. what do I do?! Positive Statement \n",
      "\n",
      "Bullying is an intentional behavior that hurts, harms, or humiliates a student, either physically or emotionally, and can happen while at school, in the community, or online. Those bullying often have more social or physical \"power\" while those targeted have difficulty stopping the behavior. Have you ever experience someone bully you? Does bullying happen with adults you think? Positive Statement \n",
      "\n",
      "Even though I myself am not a professional performer, the arts have always been an important part of my life. it breaks my heart to see the Broadway community being shut down like this. I have written many letters to politicians and signed petitions to get people to help save the arts but it feels like nobody cares at all. I’m trying to raise money to help Regional theaters in my state but I don’t know how to. how can I get people to care about this? to see how important the arts are? Positive Statement \n",
      "\n",
      "today would have been a month since my own father passed away from lung cancer, and this month would been 3 years with the bf but he barely remembers me he’s being a jerk since he’s got brain cancer (GBM- Glioblastoma) I’m so sad  Positive Statement \n",
      "\n",
      "i'm having an intense panic attack nothing is helping and i don't know what to do i am overwhelmed and afraid and scared please someone please  Positive Statement \n",
      "\n",
      "Hi, I'm Kaity, I'm new and trying to find people I can connect with as well as trying to learn how to rekindle friendships that I've neglected due to my illnesses. Does anyone have tips for someone who has a hard time making friends? Positive Statement \n",
      "\n",
      "I made a couple of post today saying I need someone to talk to I'm struggling so much right now I'm in a serve depression I just really need someone to talk to please is there anyone online willing to talk I don't know what to do anymore I feel so hopeless and I don't belong here anymore is there anyone online willing to talk please comment on my post please  Positive Statement \n",
      "\n",
      "anyone have mask recommendations? send links mine are gross  Positive Statement \n",
      "\n",
      "Has anyone dealt with abuse, mental or physical? I dealt with mental abuse from my parents for 10 years and with a past partner. The abuse really hurt my anxiety and caused me to be depressed, which then makes my seizures worse as well. Just wondering, if any of you suffered from abuse, how do you cope?  Positive Statement \n",
      "\n",
      "Hi. i haven’t been diagnosed with anything yet. I get dizziness, heart palpitations, in the heat my bones will hurt really bad and my feet, ankles and fingers swell, I get  heart palpitations in the heat, I get numbness feeling in some parts of my face and  my arms. Some days I feel great. I’ve had MRIs, catscans, checked for seizures, heart ultrasounds, checked for strokes.. multiple panels of blood work. everything comes back fine.  does anyone else have similar symptoms? my EBV # was high...  Positive Statement \n",
      "\n",
      "Does crying help with anxiety? Positive Statement \n",
      "\n",
      "idk if this is a rant but this randomly came into my mind. my parents like to point it out like liked myl last bf WAY more than this one. but they could not be more wrong.  my last bf was manipulative, a rapist(me, 3 times. coercion), and he sexually assaulted me(it is weird I was saying no but he pinned me to a wall and fingered me). Im not diagnossed but with what he did to me it feels as if i have PTSD from him.   new bf list in comments bc of the limit Positive Statement \n",
      "\n",
      "with my anxiety and weird tendency to be rude to everyone I like out of shyness it's hard to be with anyone, I've turned down so many people that have asked me out that I actually like because I belittle myself and I don't want to any more. Does anyone have any advice to help me get over my anxiety and be in a relationship? Like I'm 15 and I'm at that age where I wanna be with someone, all of my friends have someone and I'm just sitting here like, well maybe if you were better, pls help! Positive Statement \n",
      "\n",
      "So basically, I was born female and my entire life I've wanted to be a boy. sometimes I absolutely hate and dispise being a girl and other times I don't really care, I'm just super confused please help. Positive Statement \n",
      "\n",
      "currently having a mental breakdown and I'm very angry and frustrated and just upset in general, I wanna cut but I know of shouldn't, can someone give me meatheads or tips Positive Statement \n",
      "\n",
      "Am i the only one that knows that they are struggling with things like depression, anxiety, PTSD, etc. but when someone asks u how u feel and what r feeling with u have no idea how to tell them? Like j get those questions all the time and I just kinda change the subject or tell them \"Oh I'm fine\" and its done. How am I supossed to get help when I dont even know how to say anything when it comes to my problems. Can someone plz tell me? Positive Statement \n",
      "\n",
      "I've been constipated for 6 weeks now I've tried several recommendations from my doctor and I am even gotten 2 enemas which have been horrible and extremely painful... Along with a constipation i have syndrome including vomiting/vomiting blood, nausea, extremely bad stomach pain, fatigue, headache, fever, chills ect.... If you have any suggestions on what i can do or try or if you think I could have seriously sick please tell me I'd really appreciate it cause I always so miserable Ive been cryin Positive Statement \n",
      "\n",
      "Just wishing I could sleep. But since I can't, at least I get to use this time to read more of my book! 😁 Positive Statement \n",
      "\n",
      "To my fellow people facing Lyme disease, what do you find to be the most helpful treatments? It could be western approaches such as antibiotics like Doxycycline or more alternative treatments like Chinese Herbs. Thank you 🙏🏻  Positive Statement \n",
      "\n",
      "Hi im Lucy and I got my first period not to long ago about 4 months ago and ever since then there has been brown stuff when I wipe and I haven't gotten it again and its been like 4 or 5 months Positive Statement \n",
      "\n",
      "I got accepted into my dream school I'm very excited  Positive Statement \n",
      "\n",
      "any recommendations for what might soften your stool other than Miralax? I've tried miralax and senna anything that isn't a medicine? Positive Statement \n",
      "\n",
      "what do I do??? my lease isn’t up for another 6 months or so. I have CIRS, and my last living situation also had toxic levels of mold. I’m so sick and truly tired of this. Positive Statement \n",
      "\n",
      "what health/self-care goals are you all sticking to this month? 🍂🧡 I need some inspiration  Positive Statement \n",
      "\n",
      "hello so when i stand i get dizzy and somtimes drop things what happens is i stand then get dizzy then forget literaly everything for a second i cant see when it happens to so just wondering if anyone knows what it could be Positive Statement \n",
      "\n",
      "What makes you the happiest and why? Positive Statement \n",
      "\n",
      "When was the last time you remember life being “normal”(no problems)? for me 5 years ago Positive Statement \n",
      "\n",
      "I’ve been on a plant-based diet for 5 years 🌱 🥗 but wondering if I should also go gluten-free to see if it will help with my fatigue? Positive Statement \n",
      "\n",
      "ok so I noticed that I've become overly obsessed with my weight. my friend is bulimic and she worries about me sometimes because I wear both a corset and waist trainer when I dance sometimes and when we go out. I've fasted eating only a small amount every other day but had to stop when my blood sugar dropped.  I get nauseous when I'm around food and guilty when I eat it. I'm afraid of gaining weight and I'd try anything not to gain any. Positive Statement \n",
      "\n",
      "I find it very hard to make friends when I'm struggling with depression and anxiety. I constantly feel alone and like no one likes me. What are some ways to make friends and put myself out there?  Positive Statement \n",
      "\n",
      "I found myself looking for a way out of this life and away from all my problems again. I could barely get out of bed today. I’m struggling to find something to keep me here.  Positive Statement \n",
      "\n",
      "I'm really screwing myself up right now. I've been going through a period of depression for about two months now and in the time I've voluntarily left my apartment only two times. I stay in bed all day and I can feel the toll it's taking on my body. My joints ache and I've been getting muscle  cramps at night. Yet I still can't get myself to move. Anyone who knows the struggle how do you find the willpower to help yourself ? How do I fight this?  Positive Statement \n",
      "\n",
      "Life is difficult enough for someone who is an empath.... it becomes paralyzing when you have high functioning anxiety.  Recently my partner of 13+ years broke up with me. I've learned new information every week since that makes me feel like my heart is being trampled all over again each time. All signs point to possible reconciliation in the future but no time soon. The most recent bit of information I've learned though is making me feel like I need to let go. I don't know if I can get past it. Positive Statement \n",
      "\n",
      "Hi, I got diagnosed with ADHD 7 months ago and have been prescribed Adderall. It has helped with my symptoms significantly, but I’ve noticed that I have developed a tolerance. I currently take two, ten mg IR pills daily.   I’m curious if anyone has found a solution to stimulant tolerance, or if tolerance becomes less of an issue at a certain dosage. I understand that everyone has different experiences with stims, but it would be helpful to hear how people have dealt with tolerance issues.   Positive Statement \n",
      "\n",
      "I have nausea almost every night that keeps me up to times such as 3am. it’s so uncomfortable and I don’t know why it’s happening. I’ve tried ginger, nausea meds, and gum. my doctor is prescribing me anti nausea meds but I can’t take them every night. any suggestions on how to stop nausea/ has anyone else had this problem?  Positive Statement \n",
      "\n",
      "could someone please text me?  I am having a really rough day at work.  My anxiety is through the roof.  My number 507 351 6849.  please I need some one to do that.  please do not ask me if I want to be FWB or anything like or will get blocked. Positive Statement \n",
      "\n",
      " Hey everyone. I’m just curious to know if anyone knows any natural medicines that could help with anxiety and depression. I’m currently on venlafaxine right now but it does have rather unpleasant side effects and I’m wondering if there are any natural medicines that can be used for anxiety and depression. i’m a little bit conflicted though because well the medicine does help me it doesn’t make me feel well. Any tips or ideas? Anything would be appreciated  🙏  Positive Statement \n",
      "\n",
      "Hey I’m new to wana I’m so excited to be part of a community of people who get what it’s like to live with a chronic illness. I don’t have any one in my family or friend group that has any sort of illness which has been pretty isolating at times. so I’m just really excited to meet some new people and make some new friends💙 Positive Statement \n",
      "\n",
      "Hi everyone, my name is Emma and I'm new to this app. Im 19 years old. I've never actually received a formal diagnosis for anything I suffer from because as a kid my parents never really took me to a doctor for anything besides vaccines and now Im too broke to go to the doctor or therapy or anything because Im in college. However, not having a diagnosis doesnt make my problems less valid. I suffer from anorexia, trichotillomania, and have symptoms of anxiety and depression. Any advice is welcome Positive Statement \n",
      "\n",
      "I recently gave up coffee (and caffeine) because I’ve been getting stomach aches from it, but I miss that instant energy boost that it gave me. How do you stay energized throughout the day? please share tips! Positive Statement \n",
      "\n",
      "is there any apps or anything that can set reminder that i am loved. sometimes i feel loved but mist of the time i feel unloved😞 Positive Statement \n",
      "\n",
      "Any other single moms out there looking for a friend?  Positive Statement \n",
      "\n",
      "I've eaten, drank some water and took my meds.. I've been resting in bed all day and watching all my favorite Disney movies. It's nice 🖤 what have y'all accomplished today?  Positive Statement \n",
      "\n",
      "are you have a nice and awesome day or not Positive Statement \n",
      "\n",
      "what is everyone favorite way to de-stress?  Positive Statement \n",
      "\n",
      "Hey y'all. This doesn't have much to do with my mental health, but I need help. I have had a crush on a boy for 2 years now, I thought I got over it but apparently not. As you may know I moved to a school and met a new boy that I have a new crush on. I talk to both of these boys, my older crush I'm much closer to. I have feelings for both of them... but I have too much anxiety to talk to the new one. What do you guys suggest? Not sure if either have feelings, I just need a lil guidance.  Positive Statement \n",
      "\n",
      "grateful for the years of work it took me to recover from schizophrenia, severe social anxiety, and severe OCD. in high school I could truly barely function day to day or get work done. I would barely take care of myself, believe people were watching me, and that bad things would always happen if I didn’t do a compulsion. I am happy to say I’m formally undiagnosed with those:) Positive Statement \n",
      "\n",
      "I am a HUGE coffee fan but want to find an alternative source for caffeine and energy because coffee really elevates my anxiety and makes me jittery. What are some good options you have tried?! Positive Statement \n",
      "\n",
      "is anyone else getting just a bunch of older men in their inbox trying to turn this into a dating site? That seems super predatory. seeking out a site for people who are physically and mentally ill. And while some have been \"respectful\"(almost). Not one has actually taken no for a awnser. anyone else?  Positive Statement \n",
      "\n",
      "I can’t stop crying. I really miss my Dad (I know he’s in heaven) and I miss My bf he still hasn’t called I hate this. my two favorite men in my life. one passed away and the other one is in the process of dying.   my heart keeps breaking everyday  Positive Statement \n",
      "\n",
      "Hello, I'm new here. I'm 18, and I've been diagnosed with absence seizures, ADHD, anxiety, PTSD, tourettes syndrome, and asthma. I have a seizure about every other day and the anxiety, ADHD, and PTSD make my daily life a struggle. PTSD I have from abuse from relationships and family. My tourettes is only mild, mostly tics, but sometimes I shout random words. I've been diagnosed with all these for most of my life. Any advice?  Positive Statement \n",
      "\n",
      "stressing and getting sad and depressed help?  Positive Statement \n",
      "\n",
      "I have been wanting to get into daily meditation but I am not sure where to start. Any tips?  Positive Statement \n",
      "\n",
      "Hey yall! My name is Angela and Im new to this group! I am an avid lover of animals, I am a senior in community college, my life is/has been a hot mess the past like 7 or 8 years, and I finally reached out and started going to therapy. I've had 4 sessions and Ill start my CBT treatment plan tomorrow for my PTSD. I actually thoroughly enjoy going and my therapist as well... I've never been to therapy so I am definitely curious to see what treatment is like vs meeting and chatting every week!? Positive Statement \n",
      "\n",
      "I'm asking to understand it more to help support my brother better, he has it and I want to know more about what it's like for people with it.  Positive Statement \n",
      "\n",
      "I dont like how this app doesnt have an option for GAD. I struggle with it more than ever and it's hard to find people who have it :/ Positive Statement \n",
      "\n",
      "I feel overwhelmed and alone. I’m going through a lot right now and know my husband is here for me. But when I open up to him he will only remember for a couple days. That is no help. Then I feel like I’m hiding again. Positive Statement \n",
      "\n",
      "Hello Wana fam! I’m starting to feel bored with my current exercise routine. What’s everyone’s favorite way to get moving? Positive Statement \n",
      "\n",
      "remote college students! how are you guys doing? 🤗 today was my first day of classes and it feels so surreal/anticlimactic because i’m basically attending zoom university. my mid back has been hurting a lot recently due to poor posture and sitting a lot. any tips on the pain or posture?  Positive Statement \n",
      "\n",
      "I came put to my mom as non-binary and it didnt go well. This happened on Sept 27.  m: I was trying to make this *shows nb flag on phone to her, excited to do this*  M: what is that?  m: the nb flag  M: oh okay. *not caring and looking away from me*  m: mom.... it's me  M: *sounding angry/disappointed/disgusted* sense when? (like it was a choice or some shit) m: *scared & regretting this now* I realized a littlr while ago...  M: we'll talk about this later.   Any advice on what to do or say to? Positive Statement \n",
      "\n",
      "Hello My name is Joel. I live in North Manakto with my wife and cat.  Professionals have put labels on me my whole entire life.  I try not to focus on them.  I try to see how I can make myself better as a human on this planet.  my wife and I have been married for 22 years and we both have some mental health challenges and health.  if it was not for my wife I would not be here.  I use music as a therapy and also a coping skills.  I give public speeches all over the state of minnesota. Positive Statement \n",
      "\n",
      "I feel almost like my muscles are being suffocated. My muscles are constantly weak and achy. Sometimes I feel like I can't even stand or sit up. I am also constantly tired and I feel physically exhausted 90% of the time. Does anyone have an idea whats wrong? Positive Statement \n",
      "\n",
      "I'm so glad that I'm not a useless idiot who got a psych degree (BA level) and can't find a job. I got job offers and I was able to take on a role that I have not had direct experience in before. Due to the state of the world, I can even work remotely after my training. Thank you Lord.  Positive Statement \n",
      "\n",
      "When my wife goes to work sometimes I feel like crap.  Why is that?  I know she is coming back and stuff.  Why is that when she leaves I feel like I am alone?  Why is that? I just need some good friends I can hang out with and be myself.  I do have friends here in Mankato and around here in the state.   Positive Statement \n",
      "\n",
      "Do you an anything special to your smoothies? Need help finding ideas to make my smoothie extra nutritious. Positive Statement \n",
      "\n",
      "Anyone have recommendations for gluten free bread? I just was recently diagnosed with celiac disease and am already missing my daily avocado toast!  Positive Statement \n",
      "\n",
      "hey guys just had a big panic attack. I quit my job so I'm searching for one. now my son is back to school so I'm alone for most of the day and it's really getting me down. any advice or hints on how to keep panic at bay and get rid of this icky feeling. please help! Positive Statement \n",
      "\n",
      "Just wondering if anybody could help.. I’ve been recently diagnosed with anxiety, panic and anxiety attacks almost 3-4 times a day. I haven’t been able to get out of the bed always feeling dizzy and feeling like i can’t do anything  and also  that something is going to happen. I’ve been put on medicine but i’m not too sure if it’s working. I would love to hear back.. I’m looking for a way to maybe ease these attacks from happening all the time.  Positive Statement \n",
      "\n",
      "i’m overweight but i’ve had a hunch for a while now that i’ve had anorexia. my cycles are irregular, i’m cold all the time, my body temperature rarely reaches 97. i’m genuinely terrified of this diagnosis and a lot of it has to do with my weight. i can’t tell anyone that or they won’t believe me because i don’t look like i am. i don’t know who to talk to irl and i just feel so alone. i don’t know anyone else with anorexia that’s overweight. Positive Statement \n",
      "\n",
      "So I get recurring involuntary body jerks when I'm tired/stressed and/or cold or sometimes just randomly and I thought it was normal. But the other day it happened while I was with my family about four times within a half hour and they said it wasn't normal. And now that I think of it when it happened when I used to hang out with my friends they would look at me really odd. I really thought this was something that happens to everyone but I guess the frequency of mine could be what's abnormal.  Positive Statement \n",
      "\n",
      "I moved in to a new house in July and since then I’ve had horrible lung issues. My asthma got much worse and I’ve been needing my emergency and steroid inhalers more. We know there is a serious mold issue in the main bathroom and planning a remodel to help in late November. Any advice on what to do for my symptoms? Is it worth bringing up to my allergist? I’ve had terrible sore throats that never go away, but I had my tonsils out this summer and assumed it was just lingering side effects. 🤷🏻‍♀️ Positive Statement \n",
      "\n",
      "My shrinks are nice but I feel like I've reached the limit. Nothing is being worked on and they are just charging the insurance and collecting the copay. My eating issues pessist so much so that if/when my bipolar symptoms arise I am not sure they'll be able to get me back to regular dosage but they seem content with it all. I wonder should I be proactive and seek another place? Positive Statement \n",
      "\n",
      "it’s weird you guys. I feel uncomfortable. I get a strange tingling all over my body (especially my scalp). I wash my hair every other day. my skin is also very sensitive. I’ve also been having some bad reflux it really sucks. I researched my symptoms online and I read a lot about how anxiety and stress manifests physically. Anxiety activates nerve fibers, causing those uncomfortable sensations. it’s been going on for a while now (because I’ve been at this for a while). can’t stand it any longer Positive Statement \n",
      "\n",
      "I just wanna be skinny I starve myself a lot it’s just hard to stop Positive Statement \n",
      "\n",
      "hi im Olympia I'm new here  Positive Statement \n",
      "\n",
      "why is it that on social media everytime i see my ex or hear about him my heart stops and i feel like im about to throw up. how do i make this feeling stop 😢 Positive Statement \n",
      "\n",
      "my father was in prison for a few years and I had no clue my step mother didnt tell me anything so I had no contact with him anymore. I lost contact with him until he was about to get out in a few weeks because my grandparents gave him my bfs number. when i got to talk to him he told me he was getting out and when he did we helped him move out of his ex wife's house (not legally divorced). My bf drove and we moved his stuff in his apartment in Manchester NH.   let me know if you want a part 2. Positive Statement \n",
      "\n",
      "🦋 If you could see what I see when I look at you, You'd definitely love you, too. You would hold your head up high. For you possess beauty that no one can deny. If you could see what I see when I look at you. There's no way you'd be so down and blue. You wouldn't be able to contain your smiles. For your charm goes on for miles and miles. If you could see what I see when I look at you. This poem is from me to you. I Love you more then you will ever know. And I thank GOD for you everyday. 🦋 Positive Statement \n",
      "\n",
      "looking for a new non-toxic, natural, green deodorant to try. specifically one that helps with Lyme herxing and die off in that area. just found out I’ve also been dealing with candidiasis of the skin so I’ve cut out bread but have been dealing with skin yeast that has been affecting my underarms. most of the clean deodorants I’ve tried just aren’t cutting it so I’m curious if anyone has any rave reviews of a specific kind? Positive Statement \n",
      "\n",
      "So I’ve had a major shift in thinking within the last few months, especially since I’ve embraced my spirituality. I’m trying to redefine my personal meaning of success. for the longest time, I place too much emphasis on external measures of success, like: Celebrity status/fame, fancy titles, riches, power, status, privilege. do these things matter? I’m slowly finding that they don’t because they don’t last. I’m finding my way to inner peace. what matters to you? what does success mean to you? Positive Statement \n",
      "\n",
      "What do you guys eat when you’re feeling anxious? Trying to nourish myself while also experiencing anxiety is getting tough!  Positive Statement \n",
      "\n",
      "hey fellow Wana-onians! I have been wanting to get a service dog for a long time to help with my fibromyalgia and anxiety/depression. if you have any advice on what kinds of dogs are best, pls share w/ me. thanks guys!😁 Positive Statement \n",
      "\n",
      "I am twelve and I deal with depression my parents don't let me go outside and spend any time with me and don't let me eat healthy and don't like spending money on me so all I want to do is lay in bed watch tik tok witch makes me laugh every day witch makes me somewhat happier but it lasts very shortly I scratch myself and hear voices and I never get to see my mother and my soon to be stepmother is 21 and my dad is 37 it doesn't make my that upset untill the fact that they always touch in public  Positive Statement \n",
      "\n",
      "does anybody know of any other herbal supplements or holistic approaches that have helped with heart palpitations? or hormonal changes?  Positive Statement \n",
      "\n",
      "i have jad anxiety for most of my life if anyone knows how to slow down panic attacks that would be great! Positive Statement \n",
      "\n",
      "I have my first apt today with a therapist to talk about my new Lyme diagnosis and anxiety. I have had anxiety for awhile and Lyme has definitely worsen it. Curious to hear anyone's experience/advice. Thank you 💚 Positive Statement \n",
      "\n",
      "hello my name is George and I joined this app for support for my deep depression I feel like I'm alone and I feel like I'm a failure is there anyone online willing to help me through this please I'm asking for support I feel like no one willing to talk to me I do feel sometimes I just want end everything that why I'm writing this I need support very badly please is there anyone online willing to talk? Positive Statement \n",
      "\n",
      " I have bipolar, depression,anxiety, borderline personality disorder, and PTSD which is a lot to deal with on my own because my husband isn't much help. We have a ten year old daughter who has ODD, ADHD, anxiety, and depression which is even more for me to deal with on top of my stuff. Is anyone else dealing with something similar and have some suggestions. Negative Statement \n",
      "\n",
      "if I opened a coffee enema place would you go? (besides the fact you may not be where I am) I’m seeing how many would like the idea.  Positive Statement \n",
      "\n",
      "My acid reflux is so bad that my throat feels raw. Finding it hard to eat with the nausea as well. Any suggestions on how to help this would be greatly appreciated💜 Positive Statement \n",
      "\n",
      "Abouttwo weeks ago I had developed a terrible pain in my back and then I couldn’t walk. I am still unable to walk or put any pressure on my legs. Had anyone had a similar experience and if so what has helped you? I honestly just want the ability to walk again. I feel dependent on others to help me right now since I can only scoot around my house.  Positive Statement \n",
      "\n",
      "Anyone with Lyme that experiences burning sensations have any remedies? My face and head are burning ☹️ Positive Statement \n",
      "\n",
      "hi everyone! I just downloaded this app. I have fibromyalgia, OCD, depression, anxiety, and PTSD. its so refreshing to meet others who go through similar things as me. you all are inspirational for simply living your lives to the best of your abilities <3 due to my mental illnesses, recently ive withdrawn from people. I'd love to make some new friends who know what I'm going through :) Positive Statement \n",
      "\n",
      "so the bf with brain cancer I got a hold of him. he got his 2nd phone stolen by another druggy, I tried to reach out with him and it’s like he doesn’t want to spend time with me or talk, he tells me he needs money to (buy drugs) that he needs to spend time with his daughter and family but I haven’t seen him almost a month like wtf!  that he needs to sort this “thing out” I’m so upset with him and can’t bother to care anymore if I was in his shoes he wouldn’t care if I was dying I don’t know why  Positive Statement \n",
      "\n",
      "almost every day I have headaches somtimes there not that bad a go away but most of the time they don't go away and I'm fourced to take pain killers so the pain can at least go down it mainly hurt if I move to fast but feel a little better if I'm still and 2 times already I fainted cuz of them i got them a year ago but the just kept getting work now I'm scared I wont able to even stand up or faint agian Positive Statement \n",
      "\n",
      "wishing you all good days <3 i woke up today by my 15 pound cat jumping on my chest😂 I'm so grateful to have pets!! they always help me feel better when im anxious or feeling extra sad. I have 3 cats. do you guys have pets?? :) Positive Statement \n",
      "\n",
      "what are your favorite things to take for an upset stomach? preferably the more natural route. thanks wanafam Positive Statement \n",
      "\n",
      "I love my friends and my husband and my cats but sometimes it's like there's still something missing. I feel lonely even when around people. I feel like nobody cares about me even though I know it's not true, and I just am so bored and aching for some good conversation on a more regular basis.  Positive Statement \n",
      "\n",
      "I'm so tired of sickness. I really don't even feel like anyone around me believes there's something wrong with me anymore and it's so frustrating because I know something is wrong it's just no one knows what. it's made me doubt myself and it has me thinking oh maybe I'm just making up my symptoms in my head. its just very discouraging ughhh😔. sorry just needed to rant a bit. hope everyone has a good day or night😁 Positive Statement \n",
      "\n",
      "I'm new here and just wanted to say hi to everyone. I think it's awesome there's an app for other chronically ill to connect and talk and get to make friends! hoping to make some new friends here! 💕 Positive Statement \n",
      "\n",
      "I’ve been having some jaw pain which makes it hurt to eat foods that require a lot of chewing. Any ideas for tasty meals made from softer foods? 😋😋 Positive Statement \n",
      "\n",
      "I just started Lexapro for my anxiety. I used to be on it, but went off it over a year ago and now am starting back up. I’ll only be on 5mg but am starting only at 2.5 to ease into it. I’m two doses in and having horrible anxiety. I almost feel like I’m having trouble breathing. Kind of like I’m very winded and can’t get enough air. I know that you can get increased anxiety for a bit before it starts getting better, but has anyone experienced this before and how long does it last? Thanks! Positive Statement \n",
      "\n",
      "Hi everyone👋🏽! I have had chronic stomach pain for almost 7 years and after 5 years, I finally got a symptom based diagnosis of endometriosis. I downloaded this app to find a community of people who understand the struggles of chronic pain. And I’m also open to advice on how you all deal with chronic pain and have a good life because ya girl is struggling😅. I’m excited to be apart of the community ❤️. (P.S. I love to talk about other things too like astrology, books, movies, and music) Positive Statement \n",
      "\n",
      "I’m 24F, married to my best friend, no kids. Im a huge geek. I’m diagnosed with Bipolar Disorder, Anxiety, and Panic Disorder. I’m here to help others. Ask me anything that’s on your mind. What’s the weather like? Do you experience psychosis? What are you currently reading? How do you handle the panic attacks? Nothing is off limits. I will answer with my experience and some resources. Best way to reduce the stigmas is by talking about them. Lets have an open and honest conversation. :):  Positive Statement \n",
      "\n",
      "I don't know if I experience dissociation but I have noticed when I have a conversation and have to make eye contact, my body will get stressed out...I start \"seeing\" visuals. It feels like the room is moving. The person feels like they are moving away (sitting) and the room feels like it is moving smaller. I get these sensations during job interviews when I try to force myself to have eye contact. Positive Statement \n",
      "\n",
      "What song always makes you smile? Need to add to my “happy” playlist. Mine is Domino by Van Morrison  Positive Statement \n",
      "\n",
      " lately I’ve been feeling a little down and, because I lost my father two weeks ago to cancer I know I haven’t been on this app for a while it’s been tough, and then seeing my boyfriend who I don’t even know if we’re together anymore who barely recognize me because of the brain cancer this seems so weird because I saw him twice and I’ve spoken to him on the phone and texted and he says that he’s struggling with using the phone and it sucks, he did tell me you love me, hope for a cute for GBM plz Positive Statement \n",
      "\n",
      "Had a very bad day today and I thought that I should come back  Positive Statement \n",
      "\n",
      "If you are depressed and anxious, the main thing I want to tell you is your pain makes sense. It has meaning. You aren’t a machine with broken parts. You are a human being with unmet needs. Don’t let anyone tell you you’re crazy or broken. You deserve love and practical support. And always remember you ain't alone. 🦋 Positive Statement \n",
      "\n",
      "why am I even here? all I do is upset people and push them away. nobody really wants to be around me. every thing just feels so pointless. like we are really just here to live and die? why deal with all the bullshit in between.  Positive Statement \n",
      "\n",
      "the reason why I ask is because of what I just wrote and also.  it is very hard on me because not only was she my aunt.  she also taught me many great things about life. also I know it is going to be hard on my dad because the 12 years my father has had guardianship of her and it is so hard to think that she has been gone.  I still see her in my dreams and my wife stills cries about her. Positive Statement \n",
      "\n",
      "I have been on this journey of trying to get rid of heart palpitations and now a couple months ago I got this bloating problem where my stomach looks like it’s pregnant and it hurts to even move which triggers my palpitations as well sometimes. I went to doctors before but tbh I’m afraid to go see one now because of the medication reactions and what’s going on in the world rn with this pandemic.. I lost at what to do rn.. 😔 Positive Statement \n",
      "\n",
      "it’s my first post. I’ve been scrolling through the page and I feel like a weight has been lifted. it feels so great to have a place to vent and know others understand what I’m going through. endometriosis sucks! depression sucks! glad to know we are all in this together!   Positive Statement \n",
      "\n",
      " if anyone wants to join Bible study you’re gonna have to let me know so that I can add you to our group on messenger or you can call me  Positive Statement \n",
      "\n",
      "Has anyone had an in depth allergy test done? I’m starting to think my constant sinus infections/sore throats might be related to an allergy in my home.   I was diagnosed with chronic tonsillitis and had my tonsils removed a few years ago, but my sore throats, sinus issues and fatigue haven’t gotten much better. Unfortunately, my ENT doc has been dismissive about these issues.   I’m thinking a full allergy skin prick test might be beneficial. Any advice or insights?  Positive Statement \n",
      "\n",
      "I have been to neurologist, cardiologist, Endocrinologist and had several scans and blood work to try and dx my illnesses. I was told CFS and fibromyalgia also dysuonomia.  A second opinion said I don't. My symptoms al still very much present, but now I don't know where else or what else to check. Any other ideas or suggestions? Any other specialist I haven't thought of yet? I have also been to a functional medicine doctor. Any ideas or help appreciated.  Positive Statement \n",
      "\n",
      "what’s your weekend plan and how are you going to implement self-care this weekend? I plan on doing some meditation on the beach 🙏🏻 🌊 the waves keep my breath grounded Positive Statement \n",
      "\n",
      "hey everyone I’m new here 🙂 still figuring out Wana but this is awesome so far. how is everyone feeling today? I know 2020 has been a lot to handle! Positive Statement \n",
      "\n",
      "what's been the best moment of your life so far  Positive Statement \n",
      "\n",
      "h-hi im Caiti. i have a bf, i have been diagnosed with depression, schizoaffective disorder,anxiety and adhd.i love pandas and i really hope to make some friends on here.  Positive Statement \n",
      "\n",
      "ever since I was little I've never been able to make friends. After the trauma and PTSD it's very hard to open up to people. I'm a very loyal friend and I'm an empath. but I still can't make friends. I literally just have my fiance. I feel alone and I wish I had people I can connect with. what are some ways you can make friends??  Positive Statement \n",
      "\n",
      "I'm 24 and I've been diagnosed with epilepsy at 9. I don't remember most of my childhood due to the long process of adjusting meds and EGGS. they stopped when I was 13, and hasn't happened again until a week ago. (took meds through all of it) I've been feeling nothing but anxiety attacks and the \"aura\" of seizures since. its hard whe no one around you understands and you can't explain it. its like a switch is flipped, and now I have to learn the new rules. just need people in my life who get it! Positive Statement \n",
      "\n",
      "My allergies are really bothering me today. I took flonase, but any other suggestions to help with my allergies are super appreciated!  Positive Statement \n",
      "\n",
      "Hi, I'm Serenity,  and just joined Wana. This year I learned  I have DID, dissociated  identity disorder,  meaning  I have multiple  personality  disorder. .... It doesn't  seem like a lot of doctors  are familiar  with this disorder. ....If anyone has any ideas or tips on my condition, I am open to suggestions. ... Positive Statement \n",
      "\n",
      "so my mother dosnt trust ADHD medication. she says it \"dumbs you down and you will become relient on it\" and so if anyone here is on meds for ADHD can you comment and inform aboit wether or not you have become addicted to it/dumbed down by it  in trying to get diagnosed and given the meds so i can focus more when my school goes online again , but my mother dosnt trust it, any help is helpful thanks Positive Statement \n",
      "\n",
      "If your homophobic please leave. so I am a lesbian. That doesn't mean I like every girl I see. it means I lean towards girls more than boys. if you lean more to girls but still like guys then your more likely Bi. I am scared to tell my mother. how should I tell her? Positive Statement \n",
      "\n",
      "Hi! I'm new to Wana. I have struggled with anxiety and chronic pain for awhile. I'm currently waiting for tests for Lyme Disease and other tick illnesses from a LLMD as well. I was wondering if anyone has gotten acupuncture for anxiety, pain or tick illnesses and if it helped. Advice? Thank you❣️ Positive Statement \n",
      "\n",
      "I don’t know if you know JuiceWrld Music 🎶 might help cure depression. Positive Statement \n",
      "\n",
      "I recently had a night with my boyfriend my period is late I been having a lot of anxiety wondering and wondering what to do  I been trying to get a pregnancy test but  it seems no one can't help my dad doesn't even know I'm scared. Positive Statement \n",
      "\n",
      "I'M IN SO MUCH PAIN FROM MY CHRONIC LOWER BACK PAIN THAT I CAN'T GET OUT OF BED. ANYBODY ELSE KNOW THE FEELING? Positive Statement \n",
      "\n",
      "dude eating disorder recovery is so weird like i am SOOOOO huNGRY Positive Statement \n",
      "\n",
      "I’ve had an awful day today. first I had a job interview which I think I bombed and then I was working on my math praxis materials online and when I took a practice quiz I got every answer wrong. I feel too stupid to become a teacher now. and to top it all off I keep seeing horrible news on the internet. I feel so hopeless. like things will never get better. I want so badly to hope but I don’t know how. is there any hope out there that things will get better? please I feel so hopeless😢💔 Positive Statement \n",
      "\n",
      "I have been grown to believe being bi is a sin, i have a girlfriend and i’m a girl. i’m scared of my religious beliefs because apparently in the bible jesus said sin no more to homosexuals, he turned lesbians to salt. I love my girlfriend and we have an amazing relationship lasting for 3 years so far. What do i do? Positive Statement \n",
      "\n",
      "hi so I just got this app recently and expressing my feelings is so nerve racking for me but here I go... Latly I've been feeling so alone and numb. i don't feel anything anymore. I have so many goals that I want to achieve but no motivation to do anything like getting out of bed. I have anxiety and panic attacks also which stop me from doing many things. I don't know what to do please tell me Positive Statement \n",
      "\n",
      "I was always someone who hated it. I was never good at it. graduated at the bottom of my class. No honors/awards/esteemed accolades. While all my friends did so well. it’s been such a tough road. I don’t like school at all  Positive Statement \n",
      "\n",
      "I told my friend I was socially anxious at a gathering before covid, and she ignored me and kept pulling me into crowds, then I had a panic attack, and she called me an, \"Attention Whore\"  Positive Statement \n",
      "\n",
      "Hey, I’m Katie and new here. 😊 I’m 26 and have ME/CFS, fibromyalgia, endometriosis, Sjögren’s, dysautonomia, and HEDS. My biggest struggle is by far my chronic fatigue syndrome, which I’ve been dealing with for the past 10 years. Would love to meet other people on here that can relate to any of the aforementioned. 💗 Positive Statement \n",
      "\n",
      "I hate water but I’v been drinking it a lot because I get headaches.. anyway I get headaches everyday and I am constantly taking medication.. I do have sinus problems but it shouldn’t always be that.. does anyone know what would be cusing my headaches? anyone can relate??? Positive Statement \n",
      "\n",
      "I feel okay but then sometimes I get real sad I don't know why because my past life I do really hard childhood and it's really hard to let it go and move on with my life Positive Statement \n",
      "\n",
      "what are some hobbies or activities you enjoy doing even by yourself?  Positive Statement \n",
      "\n",
      "does anyone else get more symptomatic in the fall?? I can’t figure out why I get worse every September to November Positive Statement \n",
      "\n",
      "I’ve been pushing my body to hard when it comes to workouts which has resulted in me being extra sore. Does anyone have tips to relieve soreness? I kind of want to invest in one of those theraguns Positive Statement \n",
      "\n",
      "I was diagnosed with celiac in August after months of stomach troubles. I’ve cut out dairy and gluten ever since and I saw temporary changes in my stomach issues. Recently I’ve been having bad bloating and diarrhea again but I’m not sure why. Almost every morning my stomach is in a funk. Has anyone experienced this? or have any tips? Positive Statement \n",
      "\n",
      "hello I’m 19 years old I’m diagnosed with depression, anxiety, socio phobia, PTSD, and insomnia.  I’ve been struggling with self and depression and nightmares lately any recommendations and what I can do to feel a little better? Positive Statement \n",
      "\n",
      "hello everyone I'm struggling right now I lost both of my parents and I really need someone to talk to I feel like I'm alone and no one care to talk to me I feel like giving up I don't know what to do I feel very depressed and I really need someone to talk to can someone please message me please I need support please can someone please message me please I feel like giving up on life I need a friend to talk to please  Positive Statement \n",
      "\n",
      "how can I stop getting notifications every time someone replies to a message I also replied to?  I’m sorry I’m just too stressed to read every single one  Positive Statement \n",
      "\n",
      "any coping tips when your on your period I feel so fatigued and my back hurt and my depression is horrable and I feel so neauseaed  Positive Statement \n",
      "\n",
      "When I finally told my parents I had depression and anxiety they said it fake and that my life was so simply laid out for me. I don't understand how people can say things without knowing the whole story they always say your life I'd so easy yet they would abuse me. People really only care when your gone Positive Statement \n",
      "\n",
      "It’s time for another #WanaGiveaway! We’ve teamed up with our partners at Bee Keeper’s Naturals to give one lucky winner their cult classic Propolis Throat Spray! 🐝👏  here’s how to enter:  1. Follow @joinwana and @beekeepers_naturals on Instagram 2. Like our giveaway post on Instagram, and tag 3 friends in the comments 3. Comment on this post with your favorite bee power healing fact  giveaway ends 11/6 at 11:59 PM (EST). the winner will be announced on Instagram on 11/9 🙂 Positive Statement \n",
      "\n",
      "I hate having to take all this medicine. Pills for depression, anxiety, blood pressure, migraines. just now I had to take one for nausea. I’m laying in bed covered in hot pads while my friends are out enjoying the fall. I’m a jealous whiny baby Positive Statement \n",
      "\n",
      "what’s been your biggest lifestyle change throughout your healing journey? how did it help? 🙂 Positive Statement \n",
      "\n",
      "I'm an artist, writer and animal lover. I have been diagnosed with ADHD, social anxiety and depression. I'm here to talk with people who need a sympathetic ear and hopefully find people who will do the same for me. Positive Statement \n",
      "\n",
      "what are your guys's pets? Dogs? Cat? what breed?  I love animals so much, talking about them and learning cute names makes my day easier.  Positive Statement \n",
      "\n",
      ":( sobbing bc im not very close to anyone rn so im very lonely and tired  Positive Statement \n",
      "\n",
      "does anyone have depression and cut them selves  Positive Statement \n",
      "\n",
      "What do you think about an open relationship? Especially long distance? do you think it has an effect on your (mental) health? Positive Statement \n",
      "\n",
      "I have had anywhere from marriage propoals and people asking me to send gift cards and money.  I WILL NOT DO THAT AND I WILL NOT ACCEPT A MARRIAGE PROPOSAL.  i am married and I have met some wonderful people on here who I consider friends.  if you look at my bio and pictures you will see that I am married.  I love to help people and give them advice and support.   Positive Statement \n",
      "\n",
      " hey guys I’m really sorry I have not been active lately I’m doing my best to be there for everyone but today I need your guy’s support we are putting our dogs down today  Positive Statement \n",
      "\n",
      "ever feel like turning off the lights, hiding under a blanket and just cry because your feel worthless and no one wants you😭 Negative Statement \n",
      "\n",
      "does anyone know any solutions for trying to deal with cracks in your skin? every time I buy lotion made for ezcema it only glosses over the surface of my skin and lasts for an hour max!  Positive Statement \n",
      "\n",
      "I have bad depression does anyone know anything about that? Positive Statement \n",
      "\n",
      "I’m feeling so confused. I keep hearing that these companies are developing a covid19 vaccine and are testing it to make sure it’s safe. then I hear people say it’s a bad thing and that cases are going up again. I know it’s important to test vaccines properly but they are doing that. isn’t that a good thing? I’m so confused about everything nowadays. I want to believe that things will get better but everyone says otherwise. what is real and what is not?  Positive Statement \n",
      "\n",
      "Hi, I'm Jennie and I'm new to this app. Searching for people who actually get me. The ones I'm around don't even try to! They'll tell me they understand when they really don't. I don't really have friends, either, so I feel utterly alone; even though I live in a houseful.  Positive Statement \n",
      "\n",
      "is there anyone here that could talk to me please? I just need to talk to someone since I’m too anxious to post it for everyone to see. (it is not anything life threatening.) Positive Statement \n",
      "\n",
      "recently moved into a new place & have had trouble falling asleep.. favorite melatonin brands?? Positive Statement \n",
      "\n",
      "I've been diagnosed with depression so I don't eat much but really want to gain weight ,any tips or advice?? Positive Statement \n",
      "\n",
      "had a cramp in my stomach/ abs today and thought I was dying. I think it’s a combo of dehydration and diarrhea. what’s your favorite electrolyte?  Positive Statement \n",
      "\n",
      "Hello all! Another question that I hope you can help with. My neck pain is incredibly painful at the base of the skull, but sometimes my skull feels numb or painful to touch. It will either be a band, like a hair band, or random spots around my skull. Does anyone else experience this?    I have Chiari Malformation and have had/currently have Lyme disease, so really seeing if this is common for either of those. Positive Statement \n",
      "\n",
      "For the last almost year and a half I've been trying to understand my 11year old. She had slowly turned into a introvert. I can say mostly due to battling bullying!  its been like a game of tug-a-war! The more I try the more she pulls away! Depression and anxiety hits me in waves! Ad a mom you're daughter supposed to be your daughters best friend and be able to talk about EVERYTHING! This really hurts me! I spend kist if my days hiding crying where she caant see my tears! I need help!  Positive Statement \n",
      "\n",
      "how do you get over someone who you love but doesn't love you back? Positive Statement \n",
      "\n",
      "I have a \"friend\" but i havent veen talking to her because she so toxic and makes me feel bad about myself. Do i continue lile this? Am i doing the right thing? Positive Statement \n",
      "\n",
      "so personally for me, miralax does absolutely nothing. ill be 3 days and four to five doses in and nothing. Magnesium citrate is the only thing that works for me, that and glyercin suppositories. i only drink miralax if Im eextremely plugged up and need to be on laxatives for multiple days, because then I use it when I give my stomach a break but still needs to keep moving. (i dont mean minor constipation I mean lands me in the er bc my guts wont move ANYTHING constipation).  Positive Statement \n",
      "\n",
      "Over the past 5 years I have experienced vertigo with a wide variety of symptoms and triggers. I had seen 4 different ENT doctors. meneres disease negative. No additional holes in my inner ear bones. Hearing is above average. Everytime I went to the doctor we would rule something out but have even more questions. Symptomatically vertigo lasts minutes to hours. However my bouts will last a few days to a week or more. Finally went to a Neurologist and was diagnosed with Vestibular Migraines.  Positive Statement \n",
      "\n",
      "what do y’all do to cope with shortness of breath . I have short breath almost all the time now. what can help?  Positive Statement \n",
      "\n",
      "I've been really tired lately cause I've been awake thinking about this. I've made up my mind that I will tell him, but I just don't know how to do it. Should I text, or call, or tell him in person, or some other way? I get overwhelmed and my anxiety of everything that could go wrong is making my indecision worse. I've never been one to be impulsive and I've never done anything like this before. Can someone help me out? Positive Statement \n",
      "\n",
      "hey all! I know that I’m non-binary- I’ve always felt agender since I’ve been a kid.   the one thing I want advice on is top surgery. I don’t think I’ve worn a bra voluntarily in over 2 years (and can get away with it since I have a small chest) because it just makes me really uncomfortable :’)   I wanted to hear experiences of people re: considering top surgery. I’m not on T because I don’t think that’s right for me. but sometimes I just want my chest gone :0 does that make sense? Positive Statement \n",
      "\n"
     ]
    }
   ],
   "source": [
    "\n",
    "res = np.argmax(result, axis = 1)\n",
    "for i in range(len(text_original)):\n",
    "  if res[i] == 0:\n",
    "    print(text_original[i], \"Positive Statement\", \"\\n\")\n",
    "  else:\n",
    "    print(text_original[i], \"Negative Statement\", \"\\n\")\n"
   ]
  }
 ],
 "metadata": {
  "colab": {
   "authorship_tag": "ABX9TyNhleFtImH78zGmnpA9g4JP",
   "collapsed_sections": [],
   "mount_file_id": "1MKEuMGoIGQu3i3UP0ZiT3XLc64p97vg-",
   "name": "sentimentanalysis.ipynb",
   "provenance": []
  },
  "kernelspec": {
   "display_name": "Python 3",
   "language": "python",
   "name": "python3"
  },
  "language_info": {
   "codemirror_mode": {
    "name": "ipython",
    "version": 3
   },
   "file_extension": ".py",
   "mimetype": "text/x-python",
   "name": "python",
   "nbconvert_exporter": "python",
   "pygments_lexer": "ipython3",
   "version": "3.6.5"
  }
 },
 "nbformat": 4,
 "nbformat_minor": 1
}
